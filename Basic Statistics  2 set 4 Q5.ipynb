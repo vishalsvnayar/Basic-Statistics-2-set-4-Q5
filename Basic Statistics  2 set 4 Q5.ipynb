{
 "cells": [
  {
   "cell_type": "markdown",
   "id": "46db4f79",
   "metadata": {},
   "source": [
    "**Q5**.An educational startup that helps MBA aspirants write their essays is targeting individuals who have taken GMAT in 2012 and have expressed interest in applying to FT top 20 b-schools. There are 40000 such individuals with an average GMAT score of 720 and a standard deviation of 120. The scores are distributed between 650 and 790 with a very long and thin tail towards the higher end resulting in substantial skewness. Which of the following is likely to be true for randomly chosen samples of aspirants?\n",
    "\n",
    "A.The standard deviation of the scores within any sample will be 120.\n",
    "\n",
    "B.The standard deviation of the mean of across several samples will be 120.\n",
    "\n",
    "C.The mean score in any sample will be 720.\n",
    "\n",
    "D.The average of the mean across several samples will be 720.\n",
    "\n",
    "E.`The standard deviation of the mean across several samples will be 0.60`\n",
    "\n",
    "\n",
    "sd/sqrt(n)=120/sqrt(40000)=0.60\n"
   ]
  },
  {
   "cell_type": "code",
   "execution_count": null,
   "id": "9c37ef67",
   "metadata": {},
   "outputs": [],
   "source": []
  }
 ],
 "metadata": {
  "kernelspec": {
   "display_name": "Python 3 (ipykernel)",
   "language": "python",
   "name": "python3"
  },
  "language_info": {
   "codemirror_mode": {
    "name": "ipython",
    "version": 3
   },
   "file_extension": ".py",
   "mimetype": "text/x-python",
   "name": "python",
   "nbconvert_exporter": "python",
   "pygments_lexer": "ipython3",
   "version": "3.9.7"
  }
 },
 "nbformat": 4,
 "nbformat_minor": 5
}
